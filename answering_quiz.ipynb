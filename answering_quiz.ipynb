{
 "cells": [
  {
   "cell_type": "code",
   "execution_count": null,
   "id": "f8008c40-eadd-4ce9-892a-6319c0a86c57",
   "metadata": {},
   "outputs": [],
   "source": [
    "Q1"
   ]
  },
  {
   "cell_type": "code",
   "execution_count": 55,
   "id": "8488d9af-ecfd-4789-8a2e-33cbff3ecb81",
   "metadata": {},
   "outputs": [
    {
     "data": {
      "text/plain": [
       "[1, 2, 3, 4, 5, 6, 13, 21, 34]"
      ]
     },
     "execution_count": 55,
     "metadata": {},
     "output_type": "execute_result"
    }
   ],
   "source": [
    "A = [1,2,3,4,5,6]\n",
    "B = [13, 21, 34]\n",
    "A.extend(B)\n",
    "A"
   ]
  },
  {
   "cell_type": "code",
   "execution_count": null,
   "id": "b2b5bb32-eaef-4bda-b098-fe276c4222fc",
   "metadata": {},
   "outputs": [],
   "source": [
    "Q2"
   ]
  },
  {
   "cell_type": "code",
   "execution_count": 7,
   "id": "233da6c8-ae2d-42d2-97ec-f3244c06fc26",
   "metadata": {},
   "outputs": [
    {
     "data": {
      "text/plain": [
       "array([[1., 0., 0.],\n",
       "       [0., 1., 0.],\n",
       "       [0., 0., 1.]])"
      ]
     },
     "execution_count": 7,
     "metadata": {},
     "output_type": "execute_result"
    }
   ],
   "source": [
    "import numpy as np\n",
    "C = np.identity(3)\n",
    "C"
   ]
  },
  {
   "cell_type": "code",
   "execution_count": null,
   "id": "47282c03-7ca8-4d6e-a1fe-55f24fc7d1a0",
   "metadata": {},
   "outputs": [],
   "source": [
    "Q3."
   ]
  },
  {
   "cell_type": "code",
   "execution_count": 56,
   "id": "1b634301-2d8d-4119-9846-e6ea3f04f845",
   "metadata": {},
   "outputs": [
    {
     "data": {
      "text/html": [
       "<div>\n",
       "<style scoped>\n",
       "    .dataframe tbody tr th:only-of-type {\n",
       "        vertical-align: middle;\n",
       "    }\n",
       "\n",
       "    .dataframe tbody tr th {\n",
       "        vertical-align: top;\n",
       "    }\n",
       "\n",
       "    .dataframe thead th {\n",
       "        text-align: right;\n",
       "    }\n",
       "</style>\n",
       "<table border=\"1\" class=\"dataframe\">\n",
       "  <thead>\n",
       "    <tr style=\"text-align: right;\">\n",
       "      <th></th>\n",
       "      <th>fuel_cost_per_unit_burned</th>\n",
       "    </tr>\n",
       "    <tr>\n",
       "      <th>fuel_type_code_pudl</th>\n",
       "      <th></th>\n",
       "    </tr>\n",
       "  </thead>\n",
       "  <tbody>\n",
       "    <tr>\n",
       "      <th>nuclear</th>\n",
       "      <td>4955.157002</td>\n",
       "    </tr>\n",
       "    <tr>\n",
       "      <th>oil</th>\n",
       "      <td>168.877086</td>\n",
       "    </tr>\n",
       "    <tr>\n",
       "      <th>coal</th>\n",
       "      <td>67.421830</td>\n",
       "    </tr>\n",
       "    <tr>\n",
       "      <th>waste</th>\n",
       "      <td>19.518122</td>\n",
       "    </tr>\n",
       "    <tr>\n",
       "      <th>other</th>\n",
       "      <td>18.253856</td>\n",
       "    </tr>\n",
       "    <tr>\n",
       "      <th>gas</th>\n",
       "      <td>13.659397</td>\n",
       "    </tr>\n",
       "  </tbody>\n",
       "</table>\n",
       "</div>"
      ],
      "text/plain": [
       "                     fuel_cost_per_unit_burned\n",
       "fuel_type_code_pudl                           \n",
       "nuclear                            4955.157002\n",
       "oil                                 168.877086\n",
       "coal                                 67.421830\n",
       "waste                                19.518122\n",
       "other                                18.253856\n",
       "gas                                  13.659397"
      ]
     },
     "execution_count": 56,
     "metadata": {},
     "output_type": "execute_result"
    }
   ],
   "source": [
    "import pandas as pd\n",
    "df = pd.read_csv(\"./quiz.csv\")\n",
    "lowest_average = df[[\"fuel_type_code_pudl\",\"fuel_cost_per_unit_burned\"]].groupby('fuel_type_code_pudl').mean()\n",
    "lowest_average.sort_values(\"fuel_cost_per_unit_burned\",ascending=False)"
   ]
  },
  {
   "cell_type": "code",
   "execution_count": null,
   "id": "937aa038-3339-492d-95be-60170d142cf9",
   "metadata": {},
   "outputs": [],
   "source": [
    "Q4"
   ]
  },
  {
   "cell_type": "code",
   "execution_count": 57,
   "id": "1f975ca9-eaa9-410e-8087-2ec5999f1998",
   "metadata": {},
   "outputs": [
    {
     "data": {
      "text/html": [
       "<div>\n",
       "<style scoped>\n",
       "    .dataframe tbody tr th:only-of-type {\n",
       "        vertical-align: middle;\n",
       "    }\n",
       "\n",
       "    .dataframe tbody tr th {\n",
       "        vertical-align: top;\n",
       "    }\n",
       "\n",
       "    .dataframe thead th {\n",
       "        text-align: right;\n",
       "    }\n",
       "</style>\n",
       "<table border=\"1\" class=\"dataframe\">\n",
       "  <thead>\n",
       "    <tr style=\"text-align: right;\">\n",
       "      <th></th>\n",
       "      <th>utility_id_ferc1</th>\n",
       "      <th>report_year</th>\n",
       "      <th>fuel_qty_burned</th>\n",
       "      <th>fuel_mmbtu_per_unit</th>\n",
       "      <th>fuel_cost_per_unit_burned</th>\n",
       "      <th>fuel_cost_per_unit_delivered</th>\n",
       "      <th>fuel_cost_per_mmbtu</th>\n",
       "    </tr>\n",
       "  </thead>\n",
       "  <tbody>\n",
       "    <tr>\n",
       "      <th>count</th>\n",
       "      <td>29523.00</td>\n",
       "      <td>29523.00</td>\n",
       "      <td>2.952300e+04</td>\n",
       "      <td>29523.00</td>\n",
       "      <td>29523.00</td>\n",
       "      <td>29523.00</td>\n",
       "      <td>29523.00</td>\n",
       "    </tr>\n",
       "    <tr>\n",
       "      <th>mean</th>\n",
       "      <td>118.60</td>\n",
       "      <td>2005.81</td>\n",
       "      <td>2.622119e+06</td>\n",
       "      <td>8.49</td>\n",
       "      <td>208.65</td>\n",
       "      <td>917.57</td>\n",
       "      <td>19.30</td>\n",
       "    </tr>\n",
       "    <tr>\n",
       "      <th>std</th>\n",
       "      <td>74.18</td>\n",
       "      <td>7.03</td>\n",
       "      <td>9.118004e+06</td>\n",
       "      <td>10.60</td>\n",
       "      <td>2854.49</td>\n",
       "      <td>68775.93</td>\n",
       "      <td>2091.54</td>\n",
       "    </tr>\n",
       "    <tr>\n",
       "      <th>min</th>\n",
       "      <td>1.00</td>\n",
       "      <td>1994.00</td>\n",
       "      <td>1.000000e+00</td>\n",
       "      <td>0.00</td>\n",
       "      <td>-276.08</td>\n",
       "      <td>-874.94</td>\n",
       "      <td>-41.50</td>\n",
       "    </tr>\n",
       "    <tr>\n",
       "      <th>25%</th>\n",
       "      <td>55.00</td>\n",
       "      <td>2000.00</td>\n",
       "      <td>1.381700e+04</td>\n",
       "      <td>1.02</td>\n",
       "      <td>5.21</td>\n",
       "      <td>3.78</td>\n",
       "      <td>1.94</td>\n",
       "    </tr>\n",
       "    <tr>\n",
       "      <th>50%</th>\n",
       "      <td>122.00</td>\n",
       "      <td>2006.00</td>\n",
       "      <td>2.533220e+05</td>\n",
       "      <td>5.76</td>\n",
       "      <td>26.00</td>\n",
       "      <td>17.37</td>\n",
       "      <td>4.13</td>\n",
       "    </tr>\n",
       "    <tr>\n",
       "      <th>75%</th>\n",
       "      <td>176.00</td>\n",
       "      <td>2012.00</td>\n",
       "      <td>1.424034e+06</td>\n",
       "      <td>17.01</td>\n",
       "      <td>47.11</td>\n",
       "      <td>42.14</td>\n",
       "      <td>7.74</td>\n",
       "    </tr>\n",
       "    <tr>\n",
       "      <th>max</th>\n",
       "      <td>514.00</td>\n",
       "      <td>2018.00</td>\n",
       "      <td>5.558942e+08</td>\n",
       "      <td>341.26</td>\n",
       "      <td>139358.00</td>\n",
       "      <td>7964521.00</td>\n",
       "      <td>359278.00</td>\n",
       "    </tr>\n",
       "  </tbody>\n",
       "</table>\n",
       "</div>"
      ],
      "text/plain": [
       "       utility_id_ferc1  report_year  fuel_qty_burned  fuel_mmbtu_per_unit  \\\n",
       "count          29523.00     29523.00     2.952300e+04             29523.00   \n",
       "mean             118.60      2005.81     2.622119e+06                 8.49   \n",
       "std               74.18         7.03     9.118004e+06                10.60   \n",
       "min                1.00      1994.00     1.000000e+00                 0.00   \n",
       "25%               55.00      2000.00     1.381700e+04                 1.02   \n",
       "50%              122.00      2006.00     2.533220e+05                 5.76   \n",
       "75%              176.00      2012.00     1.424034e+06                17.01   \n",
       "max              514.00      2018.00     5.558942e+08               341.26   \n",
       "\n",
       "       fuel_cost_per_unit_burned  fuel_cost_per_unit_delivered  \\\n",
       "count                   29523.00                      29523.00   \n",
       "mean                      208.65                        917.57   \n",
       "std                      2854.49                      68775.93   \n",
       "min                      -276.08                       -874.94   \n",
       "25%                         5.21                          3.78   \n",
       "50%                        26.00                         17.37   \n",
       "75%                        47.11                         42.14   \n",
       "max                    139358.00                    7964521.00   \n",
       "\n",
       "       fuel_cost_per_mmbtu  \n",
       "count             29523.00  \n",
       "mean                 19.30  \n",
       "std                2091.54  \n",
       "min                 -41.50  \n",
       "25%                   1.94  \n",
       "50%                   4.13  \n",
       "75%                   7.74  \n",
       "max              359278.00  "
      ]
     },
     "execution_count": 57,
     "metadata": {},
     "output_type": "execute_result"
    }
   ],
   "source": [
    "summary = df.describe()\n",
    "round(summary,2)"
   ]
  },
  {
   "cell_type": "code",
   "execution_count": null,
   "id": "601394b3-f360-4b27-ae43-a85d6c20ab0e",
   "metadata": {},
   "outputs": [],
   "source": [
    "Q5"
   ]
  },
  {
   "cell_type": "code",
   "execution_count": 58,
   "id": "868ed044-5a4f-4d07-b945-039bf7aac208",
   "metadata": {},
   "outputs": [
    {
     "data": {
      "text/plain": [
       "utility_id_ferc1                  0.61\n",
       "report_year                       0.01\n",
       "fuel_qty_burned                  15.85\n",
       "fuel_mmbtu_per_unit               4.14\n",
       "fuel_cost_per_unit_burned        19.79\n",
       "fuel_cost_per_unit_delivered    105.01\n",
       "fuel_cost_per_mmbtu             171.68\n",
       "dtype: float64"
      ]
     },
     "execution_count": 58,
     "metadata": {},
     "output_type": "execute_result"
    }
   ],
   "source": [
    "skewness = df.skew()\n",
    "round(skewness ,2)"
   ]
  },
  {
   "cell_type": "code",
   "execution_count": 59,
   "id": "ea498ceb-b28e-4c2b-97ea-ad7260e57b2f",
   "metadata": {},
   "outputs": [
    {
     "data": {
      "text/plain": [
       "utility_id_ferc1                    1.09\n",
       "report_year                        -1.15\n",
       "fuel_qty_burned                   651.37\n",
       "fuel_mmbtu_per_unit                55.60\n",
       "fuel_cost_per_unit_burned         485.26\n",
       "fuel_cost_per_unit_delivered    11765.05\n",
       "fuel_cost_per_mmbtu             29489.13\n",
       "dtype: float64"
      ]
     },
     "execution_count": 59,
     "metadata": {},
     "output_type": "execute_result"
    }
   ],
   "source": [
    "kurtosis = df.kurt()\n",
    "round(kurtosis,2)"
   ]
  },
  {
   "cell_type": "code",
   "execution_count": null,
   "id": "e05e6033-5e12-466a-8aa4-9001614050d6",
   "metadata": {},
   "outputs": [],
   "source": [
    "Q6"
   ]
  },
  {
   "cell_type": "code",
   "execution_count": 60,
   "id": "6baf2830-8c19-4299-8011-81ede35c95a1",
   "metadata": {},
   "outputs": [
    {
     "name": "stdout",
     "output_type": "stream",
     "text": [
      "Feature: ['fuel_unit'] \n",
      " Total: 180 \n",
      " Percent: 60.97 %\n"
     ]
    }
   ],
   "source": [
    "missing = [x for x in df.columns if df[x].isnull().any()]\n",
    "total = df['fuel_unit'].isnull().sum()\n",
    "missing_percentage = round((total * 100 / len(df))*100,2)\n",
    "print(\"Feature:\",missing, \"\\n\", \"Total:\",total,\"\\n\", \"Percent:\",missing_percentage,\"%\")"
   ]
  },
  {
   "cell_type": "code",
   "execution_count": null,
   "id": "3c330867-1916-4304-8883-bf61e93719be",
   "metadata": {},
   "outputs": [],
   "source": [
    "Q8"
   ]
  },
  {
   "cell_type": "code",
   "execution_count": 63,
   "id": "8b0083a9-18dd-47d9-bd30-3036b6926a55",
   "metadata": {},
   "outputs": [
    {
     "data": {
      "text/plain": [
       "fuel_cost_per_unit_burned       1.000000\n",
       "report_year                     0.013599\n",
       "fuel_cost_per_unit_delivered    0.011007\n",
       "fuel_cost_per_mmbtu            -0.000437\n",
       "fuel_mmbtu_per_unit            -0.010034\n",
       "fuel_qty_burned                -0.018535\n",
       "utility_id_ferc1               -0.037863\n",
       "Name: fuel_cost_per_unit_burned, dtype: float64"
      ]
     },
     "execution_count": 63,
     "metadata": {},
     "output_type": "execute_result"
    }
   ],
   "source": [
    "import pandas as pd\n",
    "df = pd.read_csv(\"./quiz.csv\")\n",
    "lowest_correlation = df.corr()\n",
    "lowest_correlation[\"fuel_cost_per_unit_burned\"].sort_values(ascending=False)"
   ]
  },
  {
   "cell_type": "code",
   "execution_count": null,
   "id": "5b9831ab-ea81-4e20-a473-1dfedb1768a2",
   "metadata": {},
   "outputs": [],
   "source": [
    "Q9."
   ]
  },
  {
   "cell_type": "code",
   "execution_count": 65,
   "id": "712b118b-4501-42a1-89aa-7e113b869a06",
   "metadata": {},
   "outputs": [
    {
     "name": "stdout",
     "output_type": "stream",
     "text": [
      "-30.82 %\n"
     ]
    }
   ],
   "source": [
    "year = df.loc[(df[\"report_year\"] == 1994) & (df[\"fuel_type_code_pudl\"]==\"coal\")]['fuel_cost_per_unit_burned'].sum()\n",
    "year1 = df.loc[(df[\"report_year\"] == 1998) & (df[\"fuel_type_code_pudl\"]==\"coal\")]['fuel_cost_per_unit_burned'].sum()\n",
    "change = ((year1-year)/100)\n",
    "percentage_change = round(change,2)\n",
    "print(percentage_change,\"%\")"
   ]
  },
  {
   "cell_type": "code",
   "execution_count": null,
   "id": "9ca8464a-bbcb-48c9-96b0-d9515fc89079",
   "metadata": {},
   "outputs": [],
   "source": [
    "Q10"
   ]
  },
  {
   "cell_type": "code",
   "execution_count": 69,
   "id": "777502ed-4774-4e46-891b-71c1ba3b1f87",
   "metadata": {},
   "outputs": [
    {
     "data": {
      "text/html": [
       "<div>\n",
       "<style scoped>\n",
       "    .dataframe tbody tr th:only-of-type {\n",
       "        vertical-align: middle;\n",
       "    }\n",
       "\n",
       "    .dataframe tbody tr th {\n",
       "        vertical-align: top;\n",
       "    }\n",
       "\n",
       "    .dataframe thead th {\n",
       "        text-align: right;\n",
       "    }\n",
       "</style>\n",
       "<table border=\"1\" class=\"dataframe\">\n",
       "  <thead>\n",
       "    <tr style=\"text-align: right;\">\n",
       "      <th></th>\n",
       "      <th>fuel_cost_per_unit_delivered</th>\n",
       "    </tr>\n",
       "    <tr>\n",
       "      <th>report_year</th>\n",
       "      <th></th>\n",
       "    </tr>\n",
       "  </thead>\n",
       "  <tbody>\n",
       "    <tr>\n",
       "      <th>1997</th>\n",
       "      <td>11140.197239</td>\n",
       "    </tr>\n",
       "    <tr>\n",
       "      <th>1996</th>\n",
       "      <td>9196.705948</td>\n",
       "    </tr>\n",
       "    <tr>\n",
       "      <th>2000</th>\n",
       "      <td>985.362877</td>\n",
       "    </tr>\n",
       "    <tr>\n",
       "      <th>2009</th>\n",
       "      <td>652.694163</td>\n",
       "    </tr>\n",
       "    <tr>\n",
       "      <th>2018</th>\n",
       "      <td>499.269966</td>\n",
       "    </tr>\n",
       "    <tr>\n",
       "      <th>2015</th>\n",
       "      <td>326.535511</td>\n",
       "    </tr>\n",
       "    <tr>\n",
       "      <th>1998</th>\n",
       "      <td>287.154420</td>\n",
       "    </tr>\n",
       "    <tr>\n",
       "      <th>2014</th>\n",
       "      <td>192.737183</td>\n",
       "    </tr>\n",
       "    <tr>\n",
       "      <th>2013</th>\n",
       "      <td>172.307591</td>\n",
       "    </tr>\n",
       "    <tr>\n",
       "      <th>2004</th>\n",
       "      <td>139.524275</td>\n",
       "    </tr>\n",
       "    <tr>\n",
       "      <th>2016</th>\n",
       "      <td>103.901761</td>\n",
       "    </tr>\n",
       "    <tr>\n",
       "      <th>2010</th>\n",
       "      <td>91.862105</td>\n",
       "    </tr>\n",
       "    <tr>\n",
       "      <th>1994</th>\n",
       "      <td>63.636060</td>\n",
       "    </tr>\n",
       "    <tr>\n",
       "      <th>2012</th>\n",
       "      <td>60.994502</td>\n",
       "    </tr>\n",
       "    <tr>\n",
       "      <th>2001</th>\n",
       "      <td>60.050396</td>\n",
       "    </tr>\n",
       "    <tr>\n",
       "      <th>2011</th>\n",
       "      <td>59.774667</td>\n",
       "    </tr>\n",
       "    <tr>\n",
       "      <th>2008</th>\n",
       "      <td>58.588197</td>\n",
       "    </tr>\n",
       "    <tr>\n",
       "      <th>2003</th>\n",
       "      <td>55.663493</td>\n",
       "    </tr>\n",
       "    <tr>\n",
       "      <th>2002</th>\n",
       "      <td>47.594361</td>\n",
       "    </tr>\n",
       "    <tr>\n",
       "      <th>2017</th>\n",
       "      <td>46.196861</td>\n",
       "    </tr>\n",
       "    <tr>\n",
       "      <th>2007</th>\n",
       "      <td>43.325023</td>\n",
       "    </tr>\n",
       "    <tr>\n",
       "      <th>2005</th>\n",
       "      <td>41.438184</td>\n",
       "    </tr>\n",
       "    <tr>\n",
       "      <th>2006</th>\n",
       "      <td>38.657484</td>\n",
       "    </tr>\n",
       "    <tr>\n",
       "      <th>1995</th>\n",
       "      <td>32.735269</td>\n",
       "    </tr>\n",
       "    <tr>\n",
       "      <th>1999</th>\n",
       "      <td>25.551627</td>\n",
       "    </tr>\n",
       "  </tbody>\n",
       "</table>\n",
       "</div>"
      ],
      "text/plain": [
       "             fuel_cost_per_unit_delivered\n",
       "report_year                              \n",
       "1997                         11140.197239\n",
       "1996                          9196.705948\n",
       "2000                           985.362877\n",
       "2009                           652.694163\n",
       "2018                           499.269966\n",
       "2015                           326.535511\n",
       "1998                           287.154420\n",
       "2014                           192.737183\n",
       "2013                           172.307591\n",
       "2004                           139.524275\n",
       "2016                           103.901761\n",
       "2010                            91.862105\n",
       "1994                            63.636060\n",
       "2012                            60.994502\n",
       "2001                            60.050396\n",
       "2011                            59.774667\n",
       "2008                            58.588197\n",
       "2003                            55.663493\n",
       "2002                            47.594361\n",
       "2017                            46.196861\n",
       "2007                            43.325023\n",
       "2005                            41.438184\n",
       "2006                            38.657484\n",
       "1995                            32.735269\n",
       "1999                            25.551627"
      ]
     },
     "execution_count": 69,
     "metadata": {},
     "output_type": "execute_result"
    }
   ],
   "source": [
    "highest_average = df[[\"report_year\",\"fuel_cost_per_unit_delivered\"]].groupby(\"report_year\").mean()\n",
    "highest_average.sort_values(\"fuel_cost_per_unit_delivered\",ascending=False)"
   ]
  }
 ],
 "metadata": {
  "kernelspec": {
   "display_name": "Python 3",
   "language": "python",
   "name": "python3"
  },
  "language_info": {
   "codemirror_mode": {
    "name": "ipython",
    "version": 3
   },
   "file_extension": ".py",
   "mimetype": "text/x-python",
   "name": "python",
   "nbconvert_exporter": "python",
   "pygments_lexer": "ipython3",
   "version": "3.8.8"
  }
 },
 "nbformat": 4,
 "nbformat_minor": 5
}
